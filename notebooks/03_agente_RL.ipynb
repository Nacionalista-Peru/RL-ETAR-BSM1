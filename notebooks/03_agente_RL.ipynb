# Entrenamiento de Agente RL
Este notebook prepara y entrena un agente de aprendizaje por refuerzo (PPO/DQN) usando la simulación del BSM1.
