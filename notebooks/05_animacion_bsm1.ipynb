{
  "nbformat": 4,
  "nbformat_minor": 0,
  "metadata": {
    "colab": {
      "provenance": [],
      "authorship_tag": "ABX9TyNvf2YhpTUEQNRU73MURj0h",
      "include_colab_link": true
    },
    "kernelspec": {
      "name": "python3",
      "display_name": "Python 3"
    },
    "language_info": {
      "name": "python"
    }
  },
  "cells": [
    {
      "cell_type": "markdown",
      "metadata": {
        "id": "view-in-github",
        "colab_type": "text"
      },
      "source": [
        "<a href=\"https://colab.research.google.com/github/erickcori/RL-ETAR-BSM1/blob/main/notebooks/05_animacion_bsm1.ipynb\" target=\"_parent\"><img src=\"https://colab.research.google.com/assets/colab-badge.svg\" alt=\"Open In Colab\"/></a>"
      ]
    },
    {
      "cell_type": "code",
      "execution_count": null,
      "metadata": {
        "id": "ZiGgli_QvRiy"
      },
      "outputs": [],
      "source": [
        "import matplotlib.pyplot as plt\n",
        "import matplotlib.patches as patches\n",
        "import matplotlib.animation as animation\n",
        "\n",
        "# Crear figura\n",
        "fig, ax = plt.subplots(figsize=(12, 5))\n",
        "ax.set_xlim(0, 12)\n",
        "ax.set_ylim(0, 6)\n",
        "ax.axis('off')\n",
        "\n",
        "# Dibujar tanques\n",
        "tanques = []\n",
        "for i in range(5):\n",
        "    rect = patches.Rectangle((i*2, 2), 1.5, 2, linewidth=1, edgecolor='black', facecolor='lightgray')\n",
        "    tanques.append(rect)\n",
        "    ax.add_patch(rect)\n",
        "    ax.text(i*2 + 0.75, 3.5, f'Tank {i+1}', ha='center', fontsize=9)\n",
        "\n",
        "# Clarificador\n",
        "clarifier = patches.Polygon([[10.5, 2], [11, 0], [11.5, 2]], closed=True, edgecolor='black', facecolor='gray')\n",
        "ax.add_patch(clarifier)\n",
        "ax.text(11, 2.5, 'Clarifier', ha='center')\n",
        "\n",
        "# Flechas (flujo)\n",
        "flechas = []\n",
        "for i in range(4):\n",
        "    flecha = ax.arrow(i*2 + 1.5, 3, 0.4, 0, head_width=0.3, head_length=0.2, fc='blue', ec='blue')\n",
        "    flechas.append(flecha)\n",
        "\n",
        "# Hacia clarificador\n",
        "flechas.append(ax.arrow(9.5, 3, 0.5, 0, head_width=0.3, head_length=0.2, fc='blue', ec='blue'))\n",
        "\n",
        "# Recirculación interna\n",
        "recirc_int, = ax.plot([], [], 'r--', lw=1.5, label='Internal Recycle')\n",
        "\n",
        "# Recirculación externa\n",
        "recirc_ext, = ax.plot([], [], 'g--', lw=1.5, label='External Recycle')\n",
        "\n",
        "# Animación\n",
        "def init():\n",
        "    recirc_int.set_data([], [])\n",
        "    recirc_ext.set_data([], [])\n",
        "    return recirc_int, recirc_ext\n",
        "\n",
        "def animate(i):\n",
        "    # Movimiento de recirculación interna (de Tank 5 a Tank 3)\n",
        "    x_int = [9.5, 9.5, 4.5, 4.5]\n",
        "    y_int = [2, 1, 1, 2]\n",
        "    recirc_int.set_data(x_int, y_int)\n",
        "\n",
        "    # Movimiento de recirculación externa (de clarificador a Tank 1)\n",
        "    x_ext = [11, 11, -0.5, -0.5, -0.5, 0]\n",
        "    y_ext = [0, -0.5, -0.5, 3.5, 4, 4]\n",
        "    recirc_ext.set_data(x_ext, y_ext)\n",
        "\n",
        "    return recirc_int, recirc_ext\n",
        "\n",
        "ani = animation.FuncAnimation(fig, animate, init_func=init, frames=50, interval=500, blit=True)\n",
        "\n",
        "plt.legend()\n",
        "plt.tight_layout()\n",
        "plt.show()"
      ]
    }
  ]
}